{
 "cells": [
  {
   "cell_type": "code",
   "execution_count": 75,
   "metadata": {},
   "outputs": [],
   "source": [
    "%matplotlib inline\n",
    "import numpy as np\n",
    "import pandas as pd\n",
    "import matplotlib.pyplot as plt\n",
    "np.set_printoptions(threshold=np.inf)\n",
    "from scipy.interpolate import griddata"
   ]
  },
  {
   "cell_type": "code",
   "execution_count": 81,
   "metadata": {},
   "outputs": [],
   "source": [
    "#Подгрузка вытянутых данных по льду за одни сутки\n",
    "SIC = pd.read_csv('noname.csv',\n",
    "           sep = ',',\n",
    "           header = 0)\n",
    "SIC = SIC[['lon','lat','sic']]"
   ]
  },
  {
   "cell_type": "code",
   "execution_count": 89,
   "metadata": {
    "scrolled": false
   },
   "outputs": [],
   "source": [
    "#Разделение данных по долготам и широтам\n",
    "x = pd.unique(SIC['lon'])\n",
    "y = pd.unique(SIC['lat'])"
   ]
  },
  {
   "cell_type": "code",
   "execution_count": 100,
   "metadata": {
    "scrolled": false
   },
   "outputs": [
    {
     "data": {
      "text/plain": [
       "<matplotlib.collections.PathCollection at 0x1780cbe0>"
      ]
     },
     "execution_count": 100,
     "metadata": {},
     "output_type": "execute_result"
    },
    {
     "data": {
      "image/png": "[encoded data removed]",
      "text/plain": [
       "<matplotlib.figure.Figure at 0x17921438>"
      ]
     },
     "metadata": {},
     "output_type": "display_data"
    }
   ],
   "source": [
    "#Создание модельной сетки\n",
    "def grid(x_min, x_max, y_min, y_max, x_step, y_step):\n",
    "    xi = np.arange(x_min, x_max, x_step)\n",
    "    yi = np.arange(y_min, y_max, y_step)\n",
    "    xx, yy = np.meshgrid(xi, yi)\n",
    "    \n",
    "    return xi, yi, xx, yy\n",
    "\n",
    "xi, yi, xx, yy = grid(-180, 180, -90, 90,1.85, 1.85)\n",
    "plt.scatter(xx, yy, marker = 'o', c = 'k', s = 0.5)"
   ]
  },
  {
   "cell_type": "code",
   "execution_count": 101,
   "metadata": {},
   "outputs": [],
   "source": [
    "z = pd.unique(SIC['sic'])\n",
    "#lat_ =[]\n",
    "#lon_=[]\n",
    "#for j in range(len(lat)):\n",
    "#    for k in range(len(lon)):\n",
    "#        lat_.append(lat[j])\n",
    "#        lon_.append(lon[k])"
   ]
  },
  {
   "cell_type": "code",
   "execution_count": 92,
   "metadata": {},
   "outputs": [
    {
     "ename": "ValueError",
     "evalue": "shape mismatch: objects cannot be broadcast to a single shape",
     "output_type": "error",
     "traceback": [
      "\u001b[1;31m\u001b[0m",
      "\u001b[1;31mValueError\u001b[0mTraceback (most recent call last)",
      "\u001b[1;32m<ipython-input-92-20538fd8f422>\u001b[0m in \u001b[0;36m<module>\u001b[1;34m()\u001b[0m\n\u001b[0;32m      1\u001b[0m griddata((x,y),\n\u001b[0;32m      2\u001b[0m         \u001b[0mz\u001b[0m\u001b[1;33m,\u001b[0m\u001b[1;33m\u001b[0m\u001b[0m\n\u001b[1;32m----> 3\u001b[1;33m         (xx,yy))\n\u001b[0m",
      "\u001b[1;32mC:\\Users\\ASUS\\Anaconda2\\lib\\site-packages\\scipy\\interpolate\\ndgriddata.py\u001b[0m in \u001b[0;36mgriddata\u001b[1;34m(points, values, xi, method, fill_value, rescale)\u001b[0m\n\u001b[0;32m    187\u001b[0m     \"\"\"\n\u001b[0;32m    188\u001b[0m \u001b[1;33m\u001b[0m\u001b[0m\n\u001b[1;32m--> 189\u001b[1;33m     \u001b[0mpoints\u001b[0m \u001b[1;33m=\u001b[0m \u001b[0m_ndim_coords_from_arrays\u001b[0m\u001b[1;33m(\u001b[0m\u001b[0mpoints\u001b[0m\u001b[1;33m)\u001b[0m\u001b[1;33m\u001b[0m\u001b[0m\n\u001b[0m\u001b[0;32m    190\u001b[0m \u001b[1;33m\u001b[0m\u001b[0m\n\u001b[0;32m    191\u001b[0m     \u001b[1;32mif\u001b[0m \u001b[0mpoints\u001b[0m\u001b[1;33m.\u001b[0m\u001b[0mndim\u001b[0m \u001b[1;33m<\u001b[0m \u001b[1;36m2\u001b[0m\u001b[1;33m:\u001b[0m\u001b[1;33m\u001b[0m\u001b[0m\n",
      "\u001b[1;32minterpnd.pyx\u001b[0m in \u001b[0;36mscipy.interpolate.interpnd._ndim_coords_from_arrays\u001b[1;34m()\u001b[0m\n",
      "\u001b[1;32minterpnd.pyx\u001b[0m in \u001b[0;36mscipy.interpolate.interpnd._ndim_coords_from_arrays\u001b[1;34m()\u001b[0m\n",
      "\u001b[1;32mC:\\Users\\ASUS\\Anaconda2\\lib\\site-packages\\numpy\\lib\\stride_tricks.py\u001b[0m in \u001b[0;36mbroadcast_arrays\u001b[1;34m(*args, **kwargs)\u001b[0m\n\u001b[0;32m    247\u001b[0m     \u001b[0margs\u001b[0m \u001b[1;33m=\u001b[0m \u001b[1;33m[\u001b[0m\u001b[0mnp\u001b[0m\u001b[1;33m.\u001b[0m\u001b[0marray\u001b[0m\u001b[1;33m(\u001b[0m\u001b[0m_m\u001b[0m\u001b[1;33m,\u001b[0m \u001b[0mcopy\u001b[0m\u001b[1;33m=\u001b[0m\u001b[0mFalse\u001b[0m\u001b[1;33m,\u001b[0m \u001b[0msubok\u001b[0m\u001b[1;33m=\u001b[0m\u001b[0msubok\u001b[0m\u001b[1;33m)\u001b[0m \u001b[1;32mfor\u001b[0m \u001b[0m_m\u001b[0m \u001b[1;32min\u001b[0m \u001b[0margs\u001b[0m\u001b[1;33m]\u001b[0m\u001b[1;33m\u001b[0m\u001b[0m\n\u001b[0;32m    248\u001b[0m \u001b[1;33m\u001b[0m\u001b[0m\n\u001b[1;32m--> 249\u001b[1;33m     \u001b[0mshape\u001b[0m \u001b[1;33m=\u001b[0m \u001b[0m_broadcast_shape\u001b[0m\u001b[1;33m(\u001b[0m\u001b[1;33m*\u001b[0m\u001b[0margs\u001b[0m\u001b[1;33m)\u001b[0m\u001b[1;33m\u001b[0m\u001b[0m\n\u001b[0m\u001b[0;32m    250\u001b[0m \u001b[1;33m\u001b[0m\u001b[0m\n\u001b[0;32m    251\u001b[0m     \u001b[1;32mif\u001b[0m \u001b[0mall\u001b[0m\u001b[1;33m(\u001b[0m\u001b[0marray\u001b[0m\u001b[1;33m.\u001b[0m\u001b[0mshape\u001b[0m \u001b[1;33m==\u001b[0m \u001b[0mshape\u001b[0m \u001b[1;32mfor\u001b[0m \u001b[0marray\u001b[0m \u001b[1;32min\u001b[0m \u001b[0margs\u001b[0m\u001b[1;33m)\u001b[0m\u001b[1;33m:\u001b[0m\u001b[1;33m\u001b[0m\u001b[0m\n",
      "\u001b[1;32mC:\\Users\\ASUS\\Anaconda2\\lib\\site-packages\\numpy\\lib\\stride_tricks.py\u001b[0m in \u001b[0;36m_broadcast_shape\u001b[1;34m(*args)\u001b[0m\n\u001b[0;32m    182\u001b[0m     \u001b[1;31m# use the old-iterator because np.nditer does not handle size 0 arrays\u001b[0m\u001b[1;33m\u001b[0m\u001b[1;33m\u001b[0m\u001b[0m\n\u001b[0;32m    183\u001b[0m     \u001b[1;31m# consistently\u001b[0m\u001b[1;33m\u001b[0m\u001b[1;33m\u001b[0m\u001b[0m\n\u001b[1;32m--> 184\u001b[1;33m     \u001b[0mb\u001b[0m \u001b[1;33m=\u001b[0m \u001b[0mnp\u001b[0m\u001b[1;33m.\u001b[0m\u001b[0mbroadcast\u001b[0m\u001b[1;33m(\u001b[0m\u001b[1;33m*\u001b[0m\u001b[0margs\u001b[0m\u001b[1;33m[\u001b[0m\u001b[1;33m:\u001b[0m\u001b[1;36m32\u001b[0m\u001b[1;33m]\u001b[0m\u001b[1;33m)\u001b[0m\u001b[1;33m\u001b[0m\u001b[0m\n\u001b[0m\u001b[0;32m    185\u001b[0m     \u001b[1;31m# unfortunately, it cannot handle 32 or more arguments directly\u001b[0m\u001b[1;33m\u001b[0m\u001b[1;33m\u001b[0m\u001b[0m\n\u001b[0;32m    186\u001b[0m     \u001b[1;32mfor\u001b[0m \u001b[0mpos\u001b[0m \u001b[1;32min\u001b[0m \u001b[0mrange\u001b[0m\u001b[1;33m(\u001b[0m\u001b[1;36m32\u001b[0m\u001b[1;33m,\u001b[0m \u001b[0mlen\u001b[0m\u001b[1;33m(\u001b[0m\u001b[0margs\u001b[0m\u001b[1;33m)\u001b[0m\u001b[1;33m,\u001b[0m \u001b[1;36m31\u001b[0m\u001b[1;33m)\u001b[0m\u001b[1;33m:\u001b[0m\u001b[1;33m\u001b[0m\u001b[0m\n",
      "\u001b[1;31mValueError\u001b[0m: shape mismatch: objects cannot be broadcast to a single shape"
     ]
    }
   ],
   "source": [
    "#griddata((x,y),\n",
    "#        z,\n",
    "#       (xx,yy))"
   ]
  },
  {
   "cell_type": "code",
   "execution_count": 102,
   "metadata": {},
   "outputs": [],
   "source": [
    "zi = griddata((SIC['lon'].values, SIC['lat'].values),\n",
    "                  SIC['sic'].values,\n",
    "                  (xx, yy),\n",
    "                  method='linear')\n",
    "#levels = np.arange(min(SIC['sic'].values),\n",
    "#                  max(SIC['sic'].values),\n",
    "#                  0.1)\n",
    "#plt.contourf(xx,\n",
    "#            yy,\n",
    "#            zi,\n",
    "#            levels,\n",
    "#            cmap=plt.get_cmap('coolwarm'))"
   ]
  },
  {
   "cell_type": "code",
   "execution_count": 103,
   "metadata": {},
   "outputs": [
    {
     "data": {
      "text/plain": [
       "<matplotlib.contour.QuadContourSet at 0x17880ac8>"
      ]
     },
     "execution_count": 103,
     "metadata": {},
     "output_type": "execute_result"
    },
    {
     "data": {
      "image/png": "[encoded data removed]",
      "text/plain": [
       "<matplotlib.figure.Figure at 0x28f997f0>"
      ]
     },
     "metadata": {},
     "output_type": "display_data"
    }
   ],
   "source": [
    "levels = np.arange(0,\n",
    "                  100,\n",
    "                  10)\n",
    "plt.contourf(xx,\n",
    "            yy,\n",
    "            zi,\n",
    "            levels,\n",
    "            cmap=plt.get_cmap('coolwarm'))"
   ]
  },
  {
   "cell_type": "code",
   "execution_count": 98,
   "metadata": {},
   "outputs": [
    {
     "data": {
      "text/plain": [
       "array([[ 0.        ,  0.        ,  0.        ,  0.        ,  0.        ,\n",
       "         0.        ,  0.        ,  0.        ,  0.        ,  0.        ,\n",
       "         0.        ,  0.        ,  0.        ,  0.        ,         nan,\n",
       "                nan,         nan,         nan,         nan,         nan,\n",
       "                nan,         nan],\n",
       "       [ 0.        ,  0.        ,  0.        ,  0.        ,  0.        ,\n",
       "         0.        ,  0.        ,  0.        ,  0.        ,  0.        ,\n",
       "         0.        ,  0.        ,  0.        ,  0.        ,         nan,\n",
       "                nan,         nan,         nan,         nan,         nan,\n",
       "                nan,  0.        ],\n",
       "       [        nan,         nan,         nan,  0.        ,  0.        ,\n",
       "         0.        ,  0.        ,  0.        ,  0.        ,  0.        ,\n",
       "         0.        ,  0.        ,  0.        ,  0.        ,  0.        ,\n",
       "                nan,         nan,         nan,         nan,         nan,\n",
       "                nan,         nan],\n",
       "       [        nan,         nan,         nan,         nan,  0.        ,\n",
       "         0.        ,  0.        ,  0.        ,  0.        ,  0.        ,\n",
       "         0.        ,  0.        ,  0.        ,  0.        ,  0.        ,\n",
       "         0.        ,  0.        ,  0.        ,         nan,         nan,\n",
       "                nan,         nan],\n",
       "       [ 0.        ,  0.        ,  0.        ,  0.        ,  0.        ,\n",
       "         0.        ,  0.        ,  0.        ,  0.        ,  0.        ,\n",
       "         0.        ,  0.        ,  0.        ,  0.        ,  0.        ,\n",
       "         0.        ,  0.        ,  0.        ,  0.        ,         nan,\n",
       "                nan,         nan],\n",
       "       [ 0.        ,  0.        ,  0.        ,  0.        ,  0.        ,\n",
       "         0.        ,  0.        ,  0.        ,  0.        ,  0.        ,\n",
       "         0.        ,  0.        ,  0.        ,  0.        ,  0.        ,\n",
       "         0.        ,  0.        ,  0.        ,  0.        ,         nan,\n",
       "                nan,         nan],\n",
       "       [95.66367956,  0.11683934,  0.        ,  0.        ,  0.        ,\n",
       "         0.        ,  0.        ,  0.        ,  0.        ,  0.        ,\n",
       "         0.        ,  0.        ,  0.        ,  0.        ,  0.        ,\n",
       "         0.        ,  0.        ,  0.        ,  0.        ,  0.        ,\n",
       "         0.        ,  0.        ],\n",
       "       [97.22236748, 93.97732486, 20.95459746,  0.        ,  0.        ,\n",
       "         0.        ,  0.        ,  0.        ,  0.        ,  0.        ,\n",
       "         0.        ,  0.        ,  0.        ,  0.        ,  0.        ,\n",
       "         0.        ,  0.        ,  0.        ,  0.        ,  0.        ,\n",
       "         0.        ,  0.        ],\n",
       "       [        nan, 96.65699602, 96.50604795, 96.74927999, 93.26505449,\n",
       "        58.21153187,  0.        ,  0.        ,  0.        ,  0.        ,\n",
       "         0.        ,  0.        ,  0.        ,  0.        ,  0.        ,\n",
       "         0.        ,  0.        ,  0.        ,  0.        ,  0.        ,\n",
       "         8.26387781, 29.03365616],\n",
       "       [        nan, 94.1612408 , 95.06949159, 95.3384463 , 95.06568429,\n",
       "        94.86505494, 94.04892798, 91.96993978, 86.68267265, 54.04854155,\n",
       "        12.71622783,  0.        ,  0.        ,  0.        ,  0.        ,\n",
       "         0.        , 13.38421293, 70.27549001, 80.26112495,         nan,\n",
       "                nan, 92.05124963],\n",
       "       [        nan, 96.04260073, 95.65035174, 95.84920161, 96.0090109 ,\n",
       "        95.82642373, 95.2940476 , 94.20904953, 92.06715733, 90.46367817,\n",
       "        87.52017043, 88.4061235 , 39.04743701, 61.25174347, 10.57847209,\n",
       "        45.55742535, 42.43123812, 46.17465288,         nan,         nan,\n",
       "                nan,         nan],\n",
       "       [        nan,         nan,         nan,         nan, 94.7263676 ,\n",
       "        95.29407707, 95.81898849, 96.12292115, 96.17751604, 95.88999085,\n",
       "        95.80753011, 96.00683541, 96.42548069, 96.14944143, 96.03621107,\n",
       "        95.7368506 , 95.24675107, 95.84686232, 98.90317235, 99.35381337,\n",
       "        99.30175268,         nan],\n",
       "       [        nan, 99.97712793, 99.94655995, 99.92353053,         nan,\n",
       "                nan, 98.88162789, 98.67555603, 98.33311419, 98.23028281,\n",
       "        98.10961364, 98.08805181, 98.23603616, 98.42312918, 98.39592049,\n",
       "        98.30459109, 98.26260052, 98.11381602, 97.98390393, 97.9595154 ,\n",
       "        97.87357961, 97.69561359],\n",
       "       [99.5399892 , 99.59337589, 99.51285687, 99.31323466, 99.3613556 ,\n",
       "        98.98386876, 98.99077495, 98.80534367, 98.75909433, 98.66575955,\n",
       "        98.69425093, 98.4871855 , 98.43687653, 98.35607054, 98.17958574,\n",
       "        98.11362152, 98.03065516, 97.81262141, 97.74204732, 97.61926902,\n",
       "        97.51743009, 97.44538368],\n",
       "       [99.74693641, 99.62285942, 99.6157613 , 99.56048383, 99.46313835,\n",
       "        99.42064237, 99.38314086, 99.33579708, 99.28822876, 99.20976288,\n",
       "        99.16651793, 99.07174858, 99.0636292 , 98.92043712, 98.90629786,\n",
       "        98.75115259, 98.67836069, 98.55339572, 98.45679002, 98.37814137,\n",
       "        98.27071639, 98.20246142],\n",
       "       [99.89158071, 99.90436261, 99.85575463, 99.74169591, 99.6565496 ,\n",
       "        99.71009242, 99.67445827, 99.62521706, 99.57977442, 99.53433177,\n",
       "        99.40726045, 99.39870683, 99.39137712, 99.34144297, 99.26922428,\n",
       "        99.22326058, 99.18345548, 99.11168773, 99.07922236, 99.0259875 ,\n",
       "        98.95039968, 98.92914799],\n",
       "       [99.3900604 , 99.3859353 , 99.38181019, 99.37768508, 99.37355997,\n",
       "        99.36943487, 99.36530976, 99.36118465, 99.35705954, 99.35293444,\n",
       "        99.34880933, 99.34468422, 99.34055911, 99.336434  , 99.3323089 ,\n",
       "        99.32818379, 99.32405868, 99.31993357, 99.31580847, 99.31168336,\n",
       "        99.30755825, 99.30343314]])"
      ]
     },
     "execution_count": 98,
     "metadata": {},
     "output_type": "execute_result"
    }
   ],
   "source": [
    "zi\n",
    "new_x = xx[0,:]\n",
    "new_y = yy[:,0]\n",
    "zi"
   ]
  },
  {
   "cell_type": "code",
   "execution_count": 99,
   "metadata": {},
   "outputs": [
    {
     "data": {
      "text/plain": [
       "array([[ 60.        , -20.        ,   0.        ],\n",
       "       [ 60.        , -18.15      ,   0.        ],\n",
       "       [ 60.        , -16.3       ,   0.        ],\n",
       "       [ 60.        , -14.45      ,   0.        ],\n",
       "       [ 60.        , -12.6       ,   0.        ],\n",
       "       [ 60.        , -10.75      ,   0.        ],\n",
       "       [ 60.        ,  -8.9       ,   0.        ],\n",
       "       [ 60.        ,  -7.05      ,   0.        ],\n",
       "       [ 60.        ,  -5.2       ,   0.        ],\n",
       "       [ 60.        ,  -3.35      ,   0.        ],\n",
       "       [ 60.        ,  -1.5       ,   0.        ],\n",
       "       [ 60.        ,   0.35      ,   0.        ],\n",
       "       [ 60.        ,   2.2       ,   0.        ],\n",
       "       [ 60.        ,   4.05      ,   0.        ],\n",
       "       [ 60.        ,   5.9       ,          nan],\n",
       "       [ 60.        ,   7.75      ,          nan],\n",
       "       [ 60.        ,   9.6       ,          nan],\n",
       "       [ 60.        ,  11.45      ,          nan],\n",
       "       [ 60.        ,  13.3       ,          nan],\n",
       "       [ 60.        ,  15.15      ,          nan],\n",
       "       [ 60.        ,  17.        ,          nan],\n",
       "       [ 60.        ,  18.85      ,          nan],\n",
       "       [ 61.85      , -20.        ,   0.        ],\n",
       "       [ 61.85      , -18.15      ,   0.        ],\n",
       "       [ 61.85      , -16.3       ,   0.        ],\n",
       "       [ 61.85      , -14.45      ,   0.        ],\n",
       "       [ 61.85      , -12.6       ,   0.        ],\n",
       "       [ 61.85      , -10.75      ,   0.        ],\n",
       "       [ 61.85      ,  -8.9       ,   0.        ],\n",
       "       [ 61.85      ,  -7.05      ,   0.        ],\n",
       "       [ 61.85      ,  -5.2       ,   0.        ],\n",
       "       [ 61.85      ,  -3.35      ,   0.        ],\n",
       "       [ 61.85      ,  -1.5       ,   0.        ],\n",
       "       [ 61.85      ,   0.35      ,   0.        ],\n",
       "       [ 61.85      ,   2.2       ,   0.        ],\n",
       "       [ 61.85      ,   4.05      ,   0.        ],\n",
       "       [ 61.85      ,   5.9       ,          nan],\n",
       "       [ 61.85      ,   7.75      ,          nan],\n",
       "       [ 61.85      ,   9.6       ,          nan],\n",
       "       [ 61.85      ,  11.45      ,          nan],\n",
       "       [ 61.85      ,  13.3       ,          nan],\n",
       "       [ 61.85      ,  15.15      ,          nan],\n",
       "       [ 61.85      ,  17.        ,          nan],\n",
       "       [ 61.85      ,  18.85      ,   0.        ],\n",
       "       [ 63.7       , -20.        ,          nan],\n",
       "       [ 63.7       , -18.15      ,          nan],\n",
       "       [ 63.7       , -16.3       ,          nan],\n",
       "       [ 63.7       , -14.45      ,   0.        ],\n",
       "       [ 63.7       , -12.6       ,   0.        ],\n",
       "       [ 63.7       , -10.75      ,   0.        ],\n",
       "       [ 63.7       ,  -8.9       ,   0.        ],\n",
       "       [ 63.7       ,  -7.05      ,   0.        ],\n",
       "       [ 63.7       ,  -5.2       ,   0.        ],\n",
       "       [ 63.7       ,  -3.35      ,   0.        ],\n",
       "       [ 63.7       ,  -1.5       ,   0.        ],\n",
       "       [ 63.7       ,   0.35      ,   0.        ],\n",
       "       [ 63.7       ,   2.2       ,   0.        ],\n",
       "       [ 63.7       ,   4.05      ,   0.        ],\n",
       "       [ 63.7       ,   5.9       ,   0.        ],\n",
       "       [ 63.7       ,   7.75      ,          nan],\n",
       "       [ 63.7       ,   9.6       ,          nan],\n",
       "       [ 63.7       ,  11.45      ,          nan],\n",
       "       [ 63.7       ,  13.3       ,          nan],\n",
       "       [ 63.7       ,  15.15      ,          nan],\n",
       "       [ 63.7       ,  17.        ,          nan],\n",
       "       [ 63.7       ,  18.85      ,          nan],\n",
       "       [ 65.55      , -20.        ,          nan],\n",
       "       [ 65.55      , -18.15      ,          nan],\n",
       "       [ 65.55      , -16.3       ,          nan],\n",
       "       [ 65.55      , -14.45      ,          nan],\n",
       "       [ 65.55      , -12.6       ,   0.        ],\n",
       "       [ 65.55      , -10.75      ,   0.        ],\n",
       "       [ 65.55      ,  -8.9       ,   0.        ],\n",
       "       [ 65.55      ,  -7.05      ,   0.        ],\n",
       "       [ 65.55      ,  -5.2       ,   0.        ],\n",
       "       [ 65.55      ,  -3.35      ,   0.        ],\n",
       "       [ 65.55      ,  -1.5       ,   0.        ],\n",
       "       [ 65.55      ,   0.35      ,   0.        ],\n",
       "       [ 65.55      ,   2.2       ,   0.        ],\n",
       "       [ 65.55      ,   4.05      ,   0.        ],\n",
       "       [ 65.55      ,   5.9       ,   0.        ],\n",
       "       [ 65.55      ,   7.75      ,   0.        ],\n",
       "       [ 65.55      ,   9.6       ,   0.        ],\n",
       "       [ 65.55      ,  11.45      ,   0.        ],\n",
       "       [ 65.55      ,  13.3       ,          nan],\n",
       "       [ 65.55      ,  15.15      ,          nan],\n",
       "       [ 65.55      ,  17.        ,          nan],\n",
       "       [ 65.55      ,  18.85      ,          nan],\n",
       "       [ 67.4       , -20.        ,   0.        ],\n",
       "       [ 67.4       , -18.15      ,   0.        ],\n",
       "       [ 67.4       , -16.3       ,   0.        ],\n",
       "       [ 67.4       , -14.45      ,   0.        ],\n",
       "       [ 67.4       , -12.6       ,   0.        ],\n",
       "       [ 67.4       , -10.75      ,   0.        ],\n",
       "       [ 67.4       ,  -8.9       ,   0.        ],\n",
       "       [ 67.4       ,  -7.05      ,   0.        ],\n",
       "       [ 67.4       ,  -5.2       ,   0.        ],\n",
       "       [ 67.4       ,  -3.35      ,   0.        ],\n",
       "       [ 67.4       ,  -1.5       ,   0.        ],\n",
       "       [ 67.4       ,   0.35      ,   0.        ],\n",
       "       [ 67.4       ,   2.2       ,   0.        ],\n",
       "       [ 67.4       ,   4.05      ,   0.        ],\n",
       "       [ 67.4       ,   5.9       ,   0.        ],\n",
       "       [ 67.4       ,   7.75      ,   0.        ],\n",
       "       [ 67.4       ,   9.6       ,   0.        ],\n",
       "       [ 67.4       ,  11.45      ,   0.        ],\n",
       "       [ 67.4       ,  13.3       ,   0.        ],\n",
       "       [ 67.4       ,  15.15      ,          nan],\n",
       "       [ 67.4       ,  17.        ,          nan],\n",
       "       [ 67.4       ,  18.85      ,          nan],\n",
       "       [ 69.25      , -20.        ,   0.        ],\n",
       "       [ 69.25      , -18.15      ,   0.        ],\n",
       "       [ 69.25      , -16.3       ,   0.        ],\n",
       "       [ 69.25      , -14.45      ,   0.        ],\n",
       "       [ 69.25      , -12.6       ,   0.        ],\n",
       "       [ 69.25      , -10.75      ,   0.        ],\n",
       "       [ 69.25      ,  -8.9       ,   0.        ],\n",
       "       [ 69.25      ,  -7.05      ,   0.        ],\n",
       "       [ 69.25      ,  -5.2       ,   0.        ],\n",
       "       [ 69.25      ,  -3.35      ,   0.        ],\n",
       "       [ 69.25      ,  -1.5       ,   0.        ],\n",
       "       [ 69.25      ,   0.35      ,   0.        ],\n",
       "       [ 69.25      ,   2.2       ,   0.        ],\n",
       "       [ 69.25      ,   4.05      ,   0.        ],\n",
       "       [ 69.25      ,   5.9       ,   0.        ],\n",
       "       [ 69.25      ,   7.75      ,   0.        ],\n",
       "       [ 69.25      ,   9.6       ,   0.        ],\n",
       "       [ 69.25      ,  11.45      ,   0.        ],\n",
       "       [ 69.25      ,  13.3       ,   0.        ],\n",
       "       [ 69.25      ,  15.15      ,          nan],\n",
       "       [ 69.25      ,  17.        ,          nan],\n",
       "       [ 69.25      ,  18.85      ,          nan],\n",
       "       [ 71.1       , -20.        ,  95.66367956],\n",
       "       [ 71.1       , -18.15      ,   0.11683934],\n",
       "       [ 71.1       , -16.3       ,   0.        ],\n",
       "       [ 71.1       , -14.45      ,   0.        ],\n",
       "       [ 71.1       , -12.6       ,   0.        ],\n",
       "       [ 71.1       , -10.75      ,   0.        ],\n",
       "       [ 71.1       ,  -8.9       ,   0.        ],\n",
       "       [ 71.1       ,  -7.05      ,   0.        ],\n",
       "       [ 71.1       ,  -5.2       ,   0.        ],\n",
       "       [ 71.1       ,  -3.35      ,   0.        ],\n",
       "       [ 71.1       ,  -1.5       ,   0.        ],\n",
       "       [ 71.1       ,   0.35      ,   0.        ],\n",
       "       [ 71.1       ,   2.2       ,   0.        ],\n",
       "       [ 71.1       ,   4.05      ,   0.        ],\n",
       "       [ 71.1       ,   5.9       ,   0.        ],\n",
       "       [ 71.1       ,   7.75      ,   0.        ],\n",
       "       [ 71.1       ,   9.6       ,   0.        ],\n",
       "       [ 71.1       ,  11.45      ,   0.        ],\n",
       "       [ 71.1       ,  13.3       ,   0.        ],\n",
       "       [ 71.1       ,  15.15      ,   0.        ],\n",
       "       [ 71.1       ,  17.        ,   0.        ],\n",
       "       [ 71.1       ,  18.85      ,   0.        ],\n",
       "       [ 72.95      , -20.        ,  97.22236748],\n",
       "       [ 72.95      , -18.15      ,  93.97732486],\n",
       "       [ 72.95      , -16.3       ,  20.95459746],\n",
       "       [ 72.95      , -14.45      ,   0.        ],\n",
       "       [ 72.95      , -12.6       ,   0.        ],\n",
       "       [ 72.95      , -10.75      ,   0.        ],\n",
       "       [ 72.95      ,  -8.9       ,   0.        ],\n",
       "       [ 72.95      ,  -7.05      ,   0.        ],\n",
       "       [ 72.95      ,  -5.2       ,   0.        ],\n",
       "       [ 72.95      ,  -3.35      ,   0.        ],\n",
       "       [ 72.95      ,  -1.5       ,   0.        ],\n",
       "       [ 72.95      ,   0.35      ,   0.        ],\n",
       "       [ 72.95      ,   2.2       ,   0.        ],\n",
       "       [ 72.95      ,   4.05      ,   0.        ],\n",
       "       [ 72.95      ,   5.9       ,   0.        ],\n",
       "       [ 72.95      ,   7.75      ,   0.        ],\n",
       "       [ 72.95      ,   9.6       ,   0.        ],\n",
       "       [ 72.95      ,  11.45      ,   0.        ],\n",
       "       [ 72.95      ,  13.3       ,   0.        ],\n",
       "       [ 72.95      ,  15.15      ,   0.        ],\n",
       "       [ 72.95      ,  17.        ,   0.        ],\n",
       "       [ 72.95      ,  18.85      ,   0.        ],\n",
       "       [ 74.8       , -20.        ,          nan],\n",
       "       [ 74.8       , -18.15      ,  96.65699602],\n",
       "       [ 74.8       , -16.3       ,  96.50604795],\n",
       "       [ 74.8       , -14.45      ,  96.74927999],\n",
       "       [ 74.8       , -12.6       ,  93.26505449],\n",
       "       [ 74.8       , -10.75      ,  58.21153187],\n",
       "       [ 74.8       ,  -8.9       ,   0.        ],\n",
       "       [ 74.8       ,  -7.05      ,   0.        ],\n",
       "       [ 74.8       ,  -5.2       ,   0.        ],\n",
       "       [ 74.8       ,  -3.35      ,   0.        ],\n",
       "       [ 74.8       ,  -1.5       ,   0.        ],\n",
       "       [ 74.8       ,   0.35      ,   0.        ],\n",
       "       [ 74.8       ,   2.2       ,   0.        ],\n",
       "       [ 74.8       ,   4.05      ,   0.        ],\n",
       "       [ 74.8       ,   5.9       ,   0.        ],\n",
       "       [ 74.8       ,   7.75      ,   0.        ],\n",
       "       [ 74.8       ,   9.6       ,   0.        ],\n",
       "       [ 74.8       ,  11.45      ,   0.        ],\n",
       "       [ 74.8       ,  13.3       ,   0.        ],\n",
       "       [ 74.8       ,  15.15      ,   0.        ],\n",
       "       [ 74.8       ,  17.        ,   8.26387781],\n",
       "       [ 74.8       ,  18.85      ,  29.03365616],\n",
       "       [ 76.65      , -20.        ,          nan],\n",
       "       [ 76.65      , -18.15      ,  94.1612408 ],\n",
       "       [ 76.65      , -16.3       ,  95.06949159],\n",
       "       [ 76.65      , -14.45      ,  95.3384463 ],\n",
       "       [ 76.65      , -12.6       ,  95.06568429],\n",
       "       [ 76.65      , -10.75      ,  94.86505494],\n",
       "       [ 76.65      ,  -8.9       ,  94.04892798],\n",
       "       [ 76.65      ,  -7.05      ,  91.96993978],\n",
       "       [ 76.65      ,  -5.2       ,  86.68267265],\n",
       "       [ 76.65      ,  -3.35      ,  54.04854155],\n",
       "       [ 76.65      ,  -1.5       ,  12.71622783],\n",
       "       [ 76.65      ,   0.35      ,   0.        ],\n",
       "       [ 76.65      ,   2.2       ,   0.        ],\n",
       "       [ 76.65      ,   4.05      ,   0.        ],\n",
       "       [ 76.65      ,   5.9       ,   0.        ],\n",
       "       [ 76.65      ,   7.75      ,   0.        ],\n",
       "       [ 76.65      ,   9.6       ,  13.38421293],\n",
       "       [ 76.65      ,  11.45      ,  70.27549001],\n",
       "       [ 76.65      ,  13.3       ,  80.26112495],\n",
       "       [ 76.65      ,  15.15      ,          nan],\n",
       "       [ 76.65      ,  17.        ,          nan],\n",
       "       [ 76.65      ,  18.85      ,  92.05124963],\n",
       "       [ 78.5       , -20.        ,          nan],\n",
       "       [ 78.5       , -18.15      ,  96.04260073],\n",
       "       [ 78.5       , -16.3       ,  95.65035174],\n",
       "       [ 78.5       , -14.45      ,  95.84920161],\n",
       "       [ 78.5       , -12.6       ,  96.0090109 ],\n",
       "       [ 78.5       , -10.75      ,  95.82642373],\n",
       "       [ 78.5       ,  -8.9       ,  95.2940476 ],\n",
       "       [ 78.5       ,  -7.05      ,  94.20904953],\n",
       "       [ 78.5       ,  -5.2       ,  92.06715733],\n",
       "       [ 78.5       ,  -3.35      ,  90.46367817],\n",
       "       [ 78.5       ,  -1.5       ,  87.52017043],\n",
       "       [ 78.5       ,   0.35      ,  88.4061235 ],\n",
       "       [ 78.5       ,   2.2       ,  39.04743701],\n",
       "       [ 78.5       ,   4.05      ,  61.25174347],\n",
       "       [ 78.5       ,   5.9       ,  10.57847209],\n",
       "       [ 78.5       ,   7.75      ,  45.55742535],\n",
       "       [ 78.5       ,   9.6       ,  42.43123812],\n",
       "       [ 78.5       ,  11.45      ,  46.17465288],\n",
       "       [ 78.5       ,  13.3       ,          nan],\n",
       "       [ 78.5       ,  15.15      ,          nan],\n",
       "       [ 78.5       ,  17.        ,          nan],\n",
       "       [ 78.5       ,  18.85      ,          nan],\n",
       "       [ 80.35      , -20.        ,          nan],\n",
       "       [ 80.35      , -18.15      ,          nan],\n",
       "       [ 80.35      , -16.3       ,          nan],\n",
       "       [ 80.35      , -14.45      ,          nan],\n",
       "       [ 80.35      , -12.6       ,  94.7263676 ],\n",
       "       [ 80.35      , -10.75      ,  95.29407707],\n",
       "       [ 80.35      ,  -8.9       ,  95.81898849],\n",
       "       [ 80.35      ,  -7.05      ,  96.12292115],\n",
       "       [ 80.35      ,  -5.2       ,  96.17751604],\n",
       "       [ 80.35      ,  -3.35      ,  95.88999085],\n",
       "       [ 80.35      ,  -1.5       ,  95.80753011],\n",
       "       [ 80.35      ,   0.35      ,  96.00683541],\n",
       "       [ 80.35      ,   2.2       ,  96.42548069],\n",
       "       [ 80.35      ,   4.05      ,  96.14944143],\n",
       "       [ 80.35      ,   5.9       ,  96.03621107],\n",
       "       [ 80.35      ,   7.75      ,  95.7368506 ],\n",
       "       [ 80.35      ,   9.6       ,  95.24675107],\n",
       "       [ 80.35      ,  11.45      ,  95.84686232],\n",
       "       [ 80.35      ,  13.3       ,  98.90317235],\n",
       "       [ 80.35      ,  15.15      ,  99.35381337],\n",
       "       [ 80.35      ,  17.        ,  99.30175268],\n",
       "       [ 80.35      ,  18.85      ,          nan],\n",
       "       [ 82.2       , -20.        ,          nan],\n",
       "       [ 82.2       , -18.15      ,  99.97712793],\n",
       "       [ 82.2       , -16.3       ,  99.94655995],\n",
       "       [ 82.2       , -14.45      ,  99.92353053],\n",
       "       [ 82.2       , -12.6       ,          nan],\n",
       "       [ 82.2       , -10.75      ,          nan],\n",
       "       [ 82.2       ,  -8.9       ,  98.88162789],\n",
       "       [ 82.2       ,  -7.05      ,  98.67555603],\n",
       "       [ 82.2       ,  -5.2       ,  98.33311419],\n",
       "       [ 82.2       ,  -3.35      ,  98.23028281],\n",
       "       [ 82.2       ,  -1.5       ,  98.10961364],\n",
       "       [ 82.2       ,   0.35      ,  98.08805181],\n",
       "       [ 82.2       ,   2.2       ,  98.23603616],\n",
       "       [ 82.2       ,   4.05      ,  98.42312918],\n",
       "       [ 82.2       ,   5.9       ,  98.39592049],\n",
       "       [ 82.2       ,   7.75      ,  98.30459109],\n",
       "       [ 82.2       ,   9.6       ,  98.26260052],\n",
       "       [ 82.2       ,  11.45      ,  98.11381602],\n",
       "       [ 82.2       ,  13.3       ,  97.98390393],\n",
       "       [ 82.2       ,  15.15      ,  97.9595154 ],\n",
       "       [ 82.2       ,  17.        ,  97.87357961],\n",
       "       [ 82.2       ,  18.85      ,  97.69561359],\n",
       "       [ 84.05      , -20.        ,  99.5399892 ],\n",
       "       [ 84.05      , -18.15      ,  99.59337589],\n",
       "       [ 84.05      , -16.3       ,  99.51285687],\n",
       "       [ 84.05      , -14.45      ,  99.31323466],\n",
       "       [ 84.05      , -12.6       ,  99.3613556 ],\n",
       "       [ 84.05      , -10.75      ,  98.98386876],\n",
       "       [ 84.05      ,  -8.9       ,  98.99077495],\n",
       "       [ 84.05      ,  -7.05      ,  98.80534367],\n",
       "       [ 84.05      ,  -5.2       ,  98.75909433],\n",
       "       [ 84.05      ,  -3.35      ,  98.66575955],\n",
       "       [ 84.05      ,  -1.5       ,  98.69425093],\n",
       "       [ 84.05      ,   0.35      ,  98.4871855 ],\n",
       "       [ 84.05      ,   2.2       ,  98.43687653],\n",
       "       [ 84.05      ,   4.05      ,  98.35607054],\n",
       "       [ 84.05      ,   5.9       ,  98.17958574],\n",
       "       [ 84.05      ,   7.75      ,  98.11362152],\n",
       "       [ 84.05      ,   9.6       ,  98.03065516],\n",
       "       [ 84.05      ,  11.45      ,  97.81262141],\n",
       "       [ 84.05      ,  13.3       ,  97.74204732],\n",
       "       [ 84.05      ,  15.15      ,  97.61926902],\n",
       "       [ 84.05      ,  17.        ,  97.51743009],\n",
       "       [ 84.05      ,  18.85      ,  97.44538368],\n",
       "       [ 85.9       , -20.        ,  99.74693641],\n",
       "       [ 85.9       , -18.15      ,  99.62285942],\n",
       "       [ 85.9       , -16.3       ,  99.6157613 ],\n",
       "       [ 85.9       , -14.45      ,  99.56048383],\n",
       "       [ 85.9       , -12.6       ,  99.46313835],\n",
       "       [ 85.9       , -10.75      ,  99.42064237],\n",
       "       [ 85.9       ,  -8.9       ,  99.38314086],\n",
       "       [ 85.9       ,  -7.05      ,  99.33579708],\n",
       "       [ 85.9       ,  -5.2       ,  99.28822876],\n",
       "       [ 85.9       ,  -3.35      ,  99.20976288],\n",
       "       [ 85.9       ,  -1.5       ,  99.16651793],\n",
       "       [ 85.9       ,   0.35      ,  99.07174858],\n",
       "       [ 85.9       ,   2.2       ,  99.0636292 ],\n",
       "       [ 85.9       ,   4.05      ,  98.92043712],\n",
       "       [ 85.9       ,   5.9       ,  98.90629786],\n",
       "       [ 85.9       ,   7.75      ,  98.75115259],\n",
       "       [ 85.9       ,   9.6       ,  98.67836069],\n",
       "       [ 85.9       ,  11.45      ,  98.55339572],\n",
       "       [ 85.9       ,  13.3       ,  98.45679002],\n",
       "       [ 85.9       ,  15.15      ,  98.37814137],\n",
       "       [ 85.9       ,  17.        ,  98.27071639],\n",
       "       [ 85.9       ,  18.85      ,  98.20246142],\n",
       "       [ 87.75      , -20.        ,  99.89158071],\n",
       "       [ 87.75      , -18.15      ,  99.90436261],\n",
       "       [ 87.75      , -16.3       ,  99.85575463],\n",
       "       [ 87.75      , -14.45      ,  99.74169591],\n",
       "       [ 87.75      , -12.6       ,  99.6565496 ],\n",
       "       [ 87.75      , -10.75      ,  99.71009242],\n",
       "       [ 87.75      ,  -8.9       ,  99.67445827],\n",
       "       [ 87.75      ,  -7.05      ,  99.62521706],\n",
       "       [ 87.75      ,  -5.2       ,  99.57977442],\n",
       "       [ 87.75      ,  -3.35      ,  99.53433177],\n",
       "       [ 87.75      ,  -1.5       ,  99.40726045],\n",
       "       [ 87.75      ,   0.35      ,  99.39870683],\n",
       "       [ 87.75      ,   2.2       ,  99.39137712],\n",
       "       [ 87.75      ,   4.05      ,  99.34144297],\n",
       "       [ 87.75      ,   5.9       ,  99.26922428],\n",
       "       [ 87.75      ,   7.75      ,  99.22326058],\n",
       "       [ 87.75      ,   9.6       ,  99.18345548],\n",
       "       [ 87.75      ,  11.45      ,  99.11168773],\n",
       "       [ 87.75      ,  13.3       ,  99.07922236],\n",
       "       [ 87.75      ,  15.15      ,  99.0259875 ],\n",
       "       [ 87.75      ,  17.        ,  98.95039968],\n",
       "       [ 87.75      ,  18.85      ,  98.92914799],\n",
       "       [ 89.6       , -20.        ,  99.3900604 ],\n",
       "       [ 89.6       , -18.15      ,  99.3859353 ],\n",
       "       [ 89.6       , -16.3       ,  99.38181019],\n",
       "       [ 89.6       , -14.45      ,  99.37768508],\n",
       "       [ 89.6       , -12.6       ,  99.37355997],\n",
       "       [ 89.6       , -10.75      ,  99.36943487],\n",
       "       [ 89.6       ,  -8.9       ,  99.36530976],\n",
       "       [ 89.6       ,  -7.05      ,  99.36118465],\n",
       "       [ 89.6       ,  -5.2       ,  99.35705954],\n",
       "       [ 89.6       ,  -3.35      ,  99.35293444],\n",
       "       [ 89.6       ,  -1.5       ,  99.34880933],\n",
       "       [ 89.6       ,   0.35      ,  99.34468422],\n",
       "       [ 89.6       ,   2.2       ,  99.34055911],\n",
       "       [ 89.6       ,   4.05      ,  99.336434  ],\n",
       "       [ 89.6       ,   5.9       ,  99.3323089 ],\n",
       "       [ 89.6       ,   7.75      ,  99.32818379],\n",
       "       [ 89.6       ,   9.6       ,  99.32405868],\n",
       "       [ 89.6       ,  11.45      ,  99.31993357],\n",
       "       [ 89.6       ,  13.3       ,  99.31580847],\n",
       "       [ 89.6       ,  15.15      ,  99.31168336],\n",
       "       [ 89.6       ,  17.        ,  99.30755825],\n",
       "       [ 89.6       ,  18.85      ,  99.30343314]])"
      ]
     },
     "execution_count": 99,
     "metadata": {},
     "output_type": "execute_result"
    }
   ],
   "source": [
    "lat =[]\n",
    "lon=[]\n",
    "for j in range(len(new_y)):\n",
    "    for k in range(len(new_x)):\n",
    "        lat.append(new_y[j])\n",
    "        lon.append(new_x[k])\n",
    "cords = np.column_stack((lat, lon))\n",
    "array_out = np.column_stack((cords, zi.flatten()))\n",
    "array_out"
   ]
  },
  {
   "cell_type": "code",
   "execution_count": 281,
   "metadata": {},
   "outputs": [
    {
     "data": {
      "text/plain": [
       "<type 'netCDF4._netCDF4.Dimension'> (unlimited): name = 'time', size = 0"
      ]
     },
     "execution_count": 281,
     "metadata": {},
     "output_type": "execute_result"
    }
   ],
   "source": []
  },
  {
   "cell_type": "code",
   "execution_count": 282,
   "metadata": {
    "collapsed": true
   },
   "outputs": [],
   "source": [
    "longitude = tempgrp.createVariable('Longitude', 'f4', 'lon')\n",
    "latitude = tempgrp.createVariable('Latitude', 'f4', 'lat')  \n",
    "levels = tempgrp.createVariable('Levels', 'i4', 'z')\n",
    "temp = tempgrp.createVariable('Temperature', 'f4', ('time','lon', 'lat', 'z'))\n",
    "time = tempgrp.createVariable('Time', 'i4', 'time')"
   ]
  },
  {
   "cell_type": "code",
   "execution_count": 283,
   "metadata": {
    "collapsed": true
   },
   "outputs": [],
   "source": [
    "longitude[:] = lon #The \"[:]\" at the end of the variable instance is necessary\n",
    "latitude[:] = lat\n",
    "levels[:] = z\n",
    "i = np.where(z==3000)[0][0]\n",
    "temp[0,:,:,i] = temp_data"
   ]
  },
  {
   "cell_type": "code",
   "execution_count": 284,
   "metadata": {
    "collapsed": true
   },
   "outputs": [],
   "source": [
    "from datetime import datetime\n",
    "today = datetime.today()\n",
    "time_num = today.toordinal()\n",
    "time[0] = time_num"
   ]
  },
  {
   "cell_type": "code",
   "execution_count": 285,
   "metadata": {
    "collapsed": true
   },
   "outputs": [],
   "source": [
    "#Add global attributes\n",
    "f.description = \"Example dataset containing one group\"\n",
    "f.history = \"Created \" + today.strftime(\"%d/%m/%y\")\n",
    "\n",
    "#Add local attributes to variable instances\n",
    "longitude.units = 'degrees'\n",
    "latitude.units = 'degrees'\n",
    "time.units = 'days since Jan 01, 0001'\n",
    "temp.units = 'C'\n",
    "levels.units = 'meters'\n",
    "temp.warning = 'This data is not real!'"
   ]
  },
  {
   "cell_type": "code",
   "execution_count": 286,
   "metadata": {
    "collapsed": true
   },
   "outputs": [],
   "source": [
    "f.close()"
   ]
  },
  {
   "cell_type": "code",
   "execution_count": 247,
   "metadata": {
    "collapsed": true
   },
   "outputs": [],
   "source": [
    "from grads.ganum import GaNum\n",
    "ga = GaNum(Bin='gradsnc')\n",
    "ts = ga.exp(\"ts\")  # export variable ts from GrADS\n",
    "ts = ts - 273\n",
    "ga.imp(\"tc\",ts)\n",
    "ga(\"display tc\")\n",
    "# convert ts to Celsius\n",
    "# send the NumPy array to GrADS\n",
    "# display the just imported variable"
   ]
  },
  {
   "cell_type": "code",
   "execution_count": 250,
   "metadata": {},
   "outputs": [
    {
     "data": {
      "text/plain": [
       "array([-42.5  , -42.498, -42.496, ..., -39.506, -39.504, -39.502],\n",
       "      dtype=float32)"
      ]
     },
     "execution_count": 250,
     "metadata": {},
     "output_type": "execute_result"
    }
   ],
   "source": []
  },
  {
   "cell_type": "code",
   "execution_count": 274,
   "metadata": {},
   "outputs": [
    {
     "data": {
      "text/plain": [
       "(750, 1500)"
      ]
     },
     "execution_count": 274,
     "metadata": {},
     "output_type": "execute_result"
    }
   ],
   "source": [
    "np.shape(zi)"
   ]
  },
  {
   "cell_type": "code",
   "execution_count": 229,
   "metadata": {
    "collapsed": true
   },
   "outputs": [],
   "source": [
    "np.savetxt('yi.txt', yi)"
   ]
  },
  {
   "cell_type": "code",
   "execution_count": null,
   "metadata": {
    "collapsed": true
   },
   "outputs": [],
   "source": []
  }
 ],
 "metadata": {
  "kernelspec": {
   "display_name": "Python 2",
   "language": "python",
   "name": "python2"
  },
  "language_info": {
   "codemirror_mode": {
    "name": "ipython",
    "version": 2
   },
   "file_extension": ".py",
   "mimetype": "text/x-python",
   "name": "python",
   "nbconvert_exporter": "python",
   "pygments_lexer": "ipython2",
   "version": "2.7.14"
  }
 },
 "nbformat": 4,
 "nbformat_minor": 2
}
