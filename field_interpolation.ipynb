{
 "cells": [
  {
   "cell_type": "code",
   "execution_count": 75,
   "metadata": {},
   "outputs": [],
   "source": [
    "%matplotlib inline\n",
    "import numpy as np\n",
    "import pandas as pd\n",
    "import matplotlib.pyplot as plt\n",
    "np.set_printoptions(threshold=np.inf)\n",
    "from scipy.interpolate import griddata"
   ]
  },
  {
   "cell_type": "code",
   "execution_count": 81,
   "metadata": {},
   "outputs": [],
   "source": [
    "#Подгрузка вытянутых данных по льду за одни сутки\n",
    "SIC = pd.read_csv('noname.csv',\n",
    "           sep = ',',\n",
    "           header = 0)\n",
    "SIC = SIC[['lon','lat','sic']]"
   ]
  },
  {
   "cell_type": "code",
   "execution_count": 107,
   "metadata": {
    "scrolled": false
   },
   "outputs": [],
   "source": [
    "#Разделение данных по долготам и широтам\n",
    "x = (SIC['lon'])\n",
    "y = (SIC['lat'])"
   ]
  },
  {
   "cell_type": "code",
   "execution_count": 149,
   "metadata": {
    "scrolled": false
   },
   "outputs": [
    {
     "data": {
      "text/plain": [
       "<matplotlib.collections.PathCollection at 0x17626550>"
      ]
     },
     "execution_count": 149,
     "metadata": {},
     "output_type": "execute_result"
    },
    {
     "data": {
      "image/png": "[encoded data removed]",
      "text/plain": [
       "<matplotlib.figure.Figure at 0x3a9dbe470>"
      ]
     },
     "metadata": {},
     "output_type": "display_data"
    }
   ],
   "source": [
    "#Создание модельной сетки\n",
    "def grid(x_min, x_max, y_min, y_max, x_step, y_step):\n",
    "    xi = np.arange(x_min, x_max, x_step)\n",
    "    yi = np.arange(y_min, y_max, y_step)\n",
    "    xx, yy = np.meshgrid(xi, yi)\n",
    "    \n",
    "    return xi, yi, xx, yy\n",
    "\n",
    "xi, yi, xx, yy = grid(20, 30, 70, 90,1.85, 1.85)\n",
    "plt.scatter(xx, yy, marker = 'o', c = 'k', s = 0.5)"
   ]
  },
  {
   "cell_type": "code",
   "execution_count": 150,
   "metadata": {},
   "outputs": [],
   "source": [
    "z = (SIC['sic'])"
   ]
  },
  {
   "cell_type": "code",
   "execution_count": 151,
   "metadata": {},
   "outputs": [
    {
     "data": {
      "text/plain": [
       "array([[        nan,         nan,         nan,         nan,         nan,\n",
       "                nan],\n",
       "       [ 0.        ,  0.        ,  0.        ,  0.        ,  0.        ,\n",
       "         0.        ],\n",
       "       [ 0.        ,  0.        ,  0.        ,  0.        ,  0.        ,\n",
       "         0.        ],\n",
       "       [78.24521842, 69.44754709, 69.18886774, 42.56140198,  9.22386366,\n",
       "         3.05158581],\n",
       "       [88.88230304,         nan,         nan, 94.98999035, 96.38272501,\n",
       "        96.61317894],\n",
       "       [        nan,         nan,         nan,         nan, 95.82892624,\n",
       "        97.01237014],\n",
       "       [99.40702462, 99.56107043, 99.62008881, 99.61405404, 99.48937082,\n",
       "        98.95280597],\n",
       "       [97.32032146, 97.26436755, 97.20028158, 97.08335695, 97.02361061,\n",
       "        97.00780763],\n",
       "       [97.66750249, 97.58099756, 97.4815882 , 97.42976123, 97.33112382,\n",
       "        97.23931214],\n",
       "       [98.46690552, 98.38948456, 98.31353461, 98.26493471, 98.17743598,\n",
       "        98.13086084],\n",
       "       [99.13481361, 99.10789205, 99.04718414, 98.98647624, 98.92414559,\n",
       "        98.97224923]])"
      ]
     },
     "execution_count": 151,
     "metadata": {},
     "output_type": "execute_result"
    }
   ],
   "source": [
    "# Схема интерполяция данных с исходной сетки на модельную\n",
    "griddata((x,y),\n",
    "        z,\n",
    "       (xx,yy))"
   ]
  },
  {
   "cell_type": "code",
   "execution_count": 152,
   "metadata": {},
   "outputs": [],
   "source": [
    "# Линейная интерполяция\n",
    "zi = griddata((SIC['lon'].values, SIC['lat'].values),\n",
    "                  SIC['sic'].values,\n",
    "                  (xx, yy),\n",
    "                  method='linear')"
   ]
  },
  {
   "cell_type": "code",
   "execution_count": 153,
   "metadata": {},
   "outputs": [
    {
     "data": {
      "text/plain": [
       "<matplotlib.contour.QuadContourSet at 0x208d0d68>"
      ]
     },
     "execution_count": 153,
     "metadata": {},
     "output_type": "execute_result"
    },
    {
     "data": {
      "image/png": "[encoded data removed]",
      "text/plain": [
       "<matplotlib.figure.Figure at 0x3931fa668>"
      ]
     },
     "metadata": {},
     "output_type": "display_data"
    }
   ],
   "source": [
    "levels = np.arange(0,\n",
    "                  100,\n",
    "                  10)\n",
    "plt.contourf(xx,\n",
    "            yy,\n",
    "            zi,\n",
    "            levels,\n",
    "            cmap=plt.get_cmap('coolwarm'))"
   ]
  },
  {
   "cell_type": "code",
   "execution_count": 154,
   "metadata": {
    "scrolled": false
   },
   "outputs": [
    {
     "data": {
      "text/plain": [
       "array([[        nan,         nan,         nan,         nan,         nan,\n",
       "                nan],\n",
       "       [ 0.        ,  0.        ,  0.        ,  0.        ,  0.        ,\n",
       "         0.        ],\n",
       "       [ 0.        ,  0.        ,  0.        ,  0.        ,  0.        ,\n",
       "         0.        ],\n",
       "       [78.24521842, 69.44754709, 69.18886774, 42.56140198,  9.22386366,\n",
       "         3.05158581],\n",
       "       [88.88230304,         nan,         nan, 94.98999035, 96.38272501,\n",
       "        96.61317894],\n",
       "       [        nan,         nan,         nan,         nan, 95.82892624,\n",
       "        97.01237014],\n",
       "       [99.40702462, 99.56107043, 99.62008881, 99.61405404, 99.48937082,\n",
       "        98.95280597],\n",
       "       [97.32032146, 97.26436755, 97.20028158, 97.08335695, 97.02361061,\n",
       "        97.00780763],\n",
       "       [97.66750249, 97.58099756, 97.4815882 , 97.42976123, 97.33112382,\n",
       "        97.23931214],\n",
       "       [98.46690552, 98.38948456, 98.31353461, 98.26493471, 98.17743598,\n",
       "        98.13086084],\n",
       "       [99.13481361, 99.10789205, 99.04718414, 98.98647624, 98.92414559,\n",
       "        98.97224923]])"
      ]
     },
     "execution_count": 154,
     "metadata": {},
     "output_type": "execute_result"
    }
   ],
   "source": [
    "zi\n",
    "new_x = xx[0,:]\n",
    "new_y = yy[:,0]\n",
    "zi"
   ]
  },
  {
   "cell_type": "code",
   "execution_count": 156,
   "metadata": {},
   "outputs": [
    {
     "data": {
      "text/plain": [
       "array([[20.        , 70.        ,         nan],\n",
       "       [20.        , 71.85      ,         nan],\n",
       "       [20.        , 73.7       ,         nan],\n",
       "       [20.        , 75.55      ,         nan],\n",
       "       [20.        , 77.4       ,         nan],\n",
       "       [20.        , 79.25      ,         nan],\n",
       "       [20.        , 81.1       ,  0.        ],\n",
       "       [20.        , 82.95      ,  0.        ],\n",
       "       [20.        , 84.8       ,  0.        ],\n",
       "       [20.        , 86.65      ,  0.        ],\n",
       "       [20.        , 88.5       ,  0.        ],\n",
       "       [21.85      , 70.        ,  0.        ],\n",
       "       [21.85      , 71.85      ,  0.        ],\n",
       "       [21.85      , 73.7       ,  0.        ],\n",
       "       [21.85      , 75.55      ,  0.        ],\n",
       "       [21.85      , 77.4       ,  0.        ],\n",
       "       [21.85      , 79.25      ,  0.        ],\n",
       "       [21.85      , 81.1       ,  0.        ],\n",
       "       [21.85      , 82.95      , 78.24521842],\n",
       "       [21.85      , 84.8       , 69.44754709],\n",
       "       [21.85      , 86.65      , 69.18886774],\n",
       "       [21.85      , 88.5       , 42.56140198],\n",
       "       [23.7       , 70.        ,  9.22386366],\n",
       "       [23.7       , 71.85      ,  3.05158581],\n",
       "       [23.7       , 73.7       , 88.88230304],\n",
       "       [23.7       , 75.55      ,         nan],\n",
       "       [23.7       , 77.4       ,         nan],\n",
       "       [23.7       , 79.25      , 94.98999035],\n",
       "       [23.7       , 81.1       , 96.38272501],\n",
       "       [23.7       , 82.95      , 96.61317894],\n",
       "       [23.7       , 84.8       ,         nan],\n",
       "       [23.7       , 86.65      ,         nan],\n",
       "       [23.7       , 88.5       ,         nan],\n",
       "       [25.55      , 70.        ,         nan],\n",
       "       [25.55      , 71.85      , 95.82892624],\n",
       "       [25.55      , 73.7       , 97.01237014],\n",
       "       [25.55      , 75.55      , 99.40702462],\n",
       "       [25.55      , 77.4       , 99.56107043],\n",
       "       [25.55      , 79.25      , 99.62008881],\n",
       "       [25.55      , 81.1       , 99.61405404],\n",
       "       [25.55      , 82.95      , 99.48937082],\n",
       "       [25.55      , 84.8       , 98.95280597],\n",
       "       [25.55      , 86.65      , 97.32032146],\n",
       "       [25.55      , 88.5       , 97.26436755],\n",
       "       [27.4       , 70.        , 97.20028158],\n",
       "       [27.4       , 71.85      , 97.08335695],\n",
       "       [27.4       , 73.7       , 97.02361061],\n",
       "       [27.4       , 75.55      , 97.00780763],\n",
       "       [27.4       , 77.4       , 97.66750249],\n",
       "       [27.4       , 79.25      , 97.58099756],\n",
       "       [27.4       , 81.1       , 97.4815882 ],\n",
       "       [27.4       , 82.95      , 97.42976123],\n",
       "       [27.4       , 84.8       , 97.33112382],\n",
       "       [27.4       , 86.65      , 97.23931214],\n",
       "       [27.4       , 88.5       , 98.46690552],\n",
       "       [29.25      , 70.        , 98.38948456],\n",
       "       [29.25      , 71.85      , 98.31353461],\n",
       "       [29.25      , 73.7       , 98.26493471],\n",
       "       [29.25      , 75.55      , 98.17743598],\n",
       "       [29.25      , 77.4       , 98.13086084],\n",
       "       [29.25      , 79.25      , 99.13481361],\n",
       "       [29.25      , 81.1       , 99.10789205],\n",
       "       [29.25      , 82.95      , 99.04718414],\n",
       "       [29.25      , 84.8       , 98.98647624],\n",
       "       [29.25      , 86.65      , 98.92414559],\n",
       "       [29.25      , 88.5       , 98.97224923]])"
      ]
     },
     "execution_count": 156,
     "metadata": {},
     "output_type": "execute_result"
    }
   ],
   "source": [
    "lat =[]\n",
    "lon=[]\n",
    "for j in range(len(new_x)):\n",
    "    for k in range(len(new_y)):\n",
    "        lat.append(new_x[j])\n",
    "        lon.append(new_y[k])\n",
    "cords = np.column_stack((lat, lon))\n",
    "array_out = np.column_stack((cords, zi.flatten()))\n",
    "np.shape(array_out)\n",
    "array_out"
   ]
  },
  {
   "cell_type": "code",
   "execution_count": 147,
   "metadata": {
    "scrolled": false
   },
   "outputs": [],
   "source": [
    "# make them a meshgrid for later use KDTree\n",
    "#new_x2d, new_y2d = np.meshgrid(new_y, new_x)\n",
    "#np.shape(new_x2d)\n",
    "# zip them together\n",
    "#model_grid = list( zip(np.ravel(new_y2d), np.ravel(new_x2d)) ) \n",
    "#df = pd.DataFrame({'new_y': lat.ravel(), 'new_x': lon.ravel(), 'zi.flatten': val.ravel()})"
   ]
  },
  {
   "cell_type": "code",
   "execution_count": 162,
   "metadata": {},
   "outputs": [
    {
     "ename": "TypeError",
     "evalue": "'numpy.ndarray' object is not callable",
     "output_type": "error",
     "traceback": [
      "\u001b[1;31m\u001b[0m",
      "\u001b[1;31mTypeError\u001b[0mTraceback (most recent call last)",
      "\u001b[1;32m<ipython-input-162-757cf4fc15ec>\u001b[0m in \u001b[0;36m<module>\u001b[1;34m()\u001b[0m\n\u001b[0;32m      3\u001b[0m \u001b[1;31m#array_out = array_out.reshape((array_out.shape[0], 1))\u001b[0m\u001b[1;33m\u001b[0m\u001b[1;33m\u001b[0m\u001b[0m\n\u001b[0;32m      4\u001b[0m \u001b[1;31m#print(array_out.shape)\u001b[0m\u001b[1;33m\u001b[0m\u001b[1;33m\u001b[0m\u001b[0m\n\u001b[1;32m----> 5\u001b[1;33m \u001b[0marray_out\u001b[0m\u001b[1;33m(\u001b[0m\u001b[1;33m[\u001b[0m\u001b[0mnew_x\u001b[0m\u001b[1;33m(\u001b[0m\u001b[1;36m1\u001b[0m\u001b[1;33m)\u001b[0m\u001b[1;33m,\u001b[0m\u001b[0mnew_y\u001b[0m\u001b[1;33m(\u001b[0m\u001b[1;36m1\u001b[0m\u001b[1;33m)\u001b[0m\u001b[1;33m,\u001b[0m\u001b[0mzi\u001b[0m\u001b[1;33m(\u001b[0m\u001b[1;36m1\u001b[0m\u001b[1;33m)\u001b[0m\u001b[1;33m]\u001b[0m\u001b[1;33m)\u001b[0m\u001b[1;33m\u001b[0m\u001b[0m\n\u001b[0m",
      "\u001b[1;31mTypeError\u001b[0m: 'numpy.ndarray' object is not callable"
     ]
    }
   ],
   "source": [
    "# reshape 1D array\n",
    "%from numpy import array\n",
    "#array_out = array_out.reshape((array_out.shape[0], 1))\n",
    "#print(array_out.shape)\n",
    "array_out([new_x[1],new_y[1],zi[1)])"
   ]
  }
 ],
 "metadata": {
  "kernelspec": {
   "display_name": "Python 2",
   "language": "python",
   "name": "python2"
  },
  "language_info": {
   "codemirror_mode": {
    "name": "ipython",
    "version": 2
   },
   "file_extension": ".py",
   "mimetype": "text/x-python",
   "name": "python",
   "nbconvert_exporter": "python",
   "pygments_lexer": "ipython2",
   "version": "2.7.14"
  }
 },
 "nbformat": 4,
 "nbformat_minor": 2
}
