{
 "cells": [
  {
   "cell_type": "code",
   "execution_count": 1,
   "metadata": {},
   "outputs": [],
   "source": [
    "%matplotlib inline\n",
    "import numpy as np\n",
    "import pandas as pd\n",
    "import matplotlib.pyplot as plt\n",
    "np.set_printoptions(threshold=np.inf)\n",
    "from scipy.interpolate import griddata\n",
    "import netCDF4 as nc4\n",
    "from netCDF4 import Dataset\n",
    "from datetime import datetime, timedelta"
   ]
  },
  {
   "cell_type": "code",
   "execution_count": 2,
   "metadata": {},
   "outputs": [
    {
     "name": "stdout",
     "output_type": "stream",
     "text": [
      "NETCDF3_CLASSIC\n"
     ]
    }
   ],
   "source": [
    "dataset = Dataset('sic_day_MPI-ESM-MR_historical_r1i1p1_20000101-20001231.nc')\n",
    "print dataset.file_format"
   ]
  },
  {
   "cell_type": "code",
   "execution_count": 3,
   "metadata": {},
   "outputs": [
    {
     "name": "stdout",
     "output_type": "stream",
     "text": [
      "[u'time', u'time_bnds', u'j', u'i', u'lat', u'lon', u'lat_vertices', u'lon_vertices', u'sic']\n"
     ]
    }
   ],
   "source": [
    "print dataset.variables.keys()\n",
    "time = dataset.variables['time']\n",
    "lat = dataset.variables['lat'][:]\n",
    "lon = dataset.variables['lon'][:]\n",
    "sic =  dataset.variables['sic'][:]"
   ]
  },
  {
   "cell_type": "code",
   "execution_count": 15,
   "metadata": {},
   "outputs": [],
   "source": [
    "dtime = sorted(list(nc4.num2date(time[:],time.units)))\n"
   ]
  },
  {
   "cell_type": "code",
   "execution_count": 5,
   "metadata": {},
   "outputs": [],
   "source": [
    "f = open('sic_echam6_t.txt','w')\n",
    "for i in range(len(dtime)):\n",
    "    val = str(dtime[i].strftime(' %Y%m%d %H%M%S')) +'\\n' \n",
    "    f.write(val)   \n",
    "    df = pd.DataFrame({'lon1':lon.ravel(),'lat1':lat.ravel(),'sic1':sic[i,:,:].ravel()})\n",
    "    x = (df['lon1'])\n",
    "    y = (df['lat1'])\n",
    "    z = (df['sic1'])\n",
    "    def grid(x_min, x_max, y_min, y_max, x_step, y_step):\n",
    "        xi = np.arange(x_min, x_max, x_step)\n",
    "        yi = np.arange(y_min, y_max, y_step)\n",
    "        xx, yy = np.meshgrid(xi, yi)\n",
    "        return xi, yi, xx, yy\n",
    "    xi, yi, xx, yy = grid(0, 360, -90, 90,1.85, 1.85)\n",
    "    griddata((x,y),z,(xx,yy))\n",
    "    zi = griddata((df['lon1'].values, df['lat1'].values),df['sic1'].values,(xx, yy),method='linear')\n",
    "    zi1 = zi/100\n",
    "    np.savetxt(f,zi1,fmt='%8.2f', delimiter=\"\")\n",
    "    i +=1\n",
    "f.close()                            "
   ]
  }
 ],
 "metadata": {
  "kernelspec": {
   "display_name": "Python 2",
   "language": "python",
   "name": "python2"
  },
  "language_info": {
   "codemirror_mode": {
    "name": "ipython",
    "version": 2
   },
   "file_extension": ".py",
   "mimetype": "text/x-python",
   "name": "python",
   "nbconvert_exporter": "python",
   "pygments_lexer": "ipython2",
   "version": "2.7.14"
  }
 },
 "nbformat": 4,
 "nbformat_minor": 2
}
